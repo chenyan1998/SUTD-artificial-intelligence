{
 "cells": [
  {
   "cell_type": "markdown",
   "metadata": {
    "Collapsed": "false"
   },
   "source": [
    "# Homework 3"
   ]
  },
  {
   "cell_type": "markdown",
   "metadata": {
    "Collapsed": "false"
   },
   "source": [
    "- Name: **Hong Pengfei**\n",
    "- student id: **1002949**\n",
    "- using python version: 3.8"
   ]
  },
  {
   "cell_type": "code",
   "execution_count": 2,
   "metadata": {
    "Collapsed": "false"
   },
   "outputs": [],
   "source": [
    "import sys \n",
    "sys.path.insert(0, '/Users/chenyan/.local/lib/python3.8/site-packages')\n",
    "sys.path.insert(0, '/Users/chenyan/opt/anaconda3/lib/python3.8/site-packages')\n",
    "from csp import *\n",
    "from random import shuffle\n",
    "import random\n",
    "random.seed(123)\n",
    "import numpy as np"
   ]
  },
  {
   "cell_type": "code",
   "execution_count": 2,
   "metadata": {
    "Collapsed": "false"
   },
   "outputs": [
    {
     "name": "stdout",
     "output_type": "stream",
     "text": [
      "================================================================================\n",
      "Constraint on Roles, columns and the diagonal (with \\ direction)\n",
      "================================================================================\n",
      "\u001b[1mmethod \t \t select unassigned variable \t select domain values \t\t inference \t\t average assignments\u001b[0m\n",
      "backTracking, \t first unassigned variable, \t unordered, \t\t\t no inference ,\t\t  14.8958\n",
      "backTracking, \t minimum remaining values, \t unordered, \t\t\t no inference ,\t\t  14.8054\n",
      "backTracking, \t first unassigned variable, \t least constraining value, \t no inference , \t  14.6666\n",
      "backTracking, \t first unassigned variable, \t unordered, \t\t\t forward checking ,\t  11.8879\n",
      "backTracking, \t first unassigned variable, \t unordered, \t\t\t AC-3 ,\t\t\t  9.4539\n",
      "backTracking, \t minimum remaining values, \t least constraining value, \t AC-3 ,\t\t\t  \u001b[1m9.0\u001b[0m\n"
     ]
    }
   ],
   "source": [
    "def solve_semi_magic(algorithm=backtracking_search, **args):\n",
    "    \"\"\" From CSP class in csp.py\n",
    "        vars        A list of variables; each is atomic (e.g. int or string).\n",
    "        domains     A dict of {var:[possible_value, ...]} entries.\n",
    "        neighbors   A dict of {var:[var,...]} that for each variable lists\n",
    "                    the other variables that participate in constraints.\n",
    "        constraints A function f(A, a, B, b) that returns true if neighbors\n",
    "                    A, B satisfy the constraint when they have values A=a, B=b\n",
    "                    \"\"\"\n",
    "    # Use the variable names in the figure\n",
    "    csp_vars = [f'V{d}' for d in range(1,10)]\n",
    "\n",
    "    #########################################\n",
    "    # Fill in these definitions\n",
    "\n",
    "    csp_domains = { v:list(range(1,4)) for i,v in enumerate(csp_vars) }\n",
    "    csp_neighbors = {\n",
    "        'V1': ['V2', 'V3', 'V4', 'V5', 'V7', 'V9'],\n",
    "        'V2': ['V1', 'V3', 'V5', 'V8'],\n",
    "        'V3': ['V1', 'V2', 'V6', 'V9'],\n",
    "        'V4': ['V1', 'V7', 'V5', 'V6'],\n",
    "        'V5': ['V1', 'V2', 'V4', 'V6', 'V8', 'V9'],\n",
    "        'V6': ['V3', 'V4', 'V5', 'V9'],\n",
    "        'V7': ['V1', 'V4', 'V8', 'V9'],\n",
    "        'V8': ['V7', 'V2', 'V5', 'V9'],\n",
    "        'V9': ['V1', 'V5', 'V3', 'V6', 'V7', 'V8'],\n",
    "    }\n",
    "    \n",
    "    random.shuffle(csp_vars)\n",
    "    csp_domains = list(csp_domains.items())\n",
    "    random.shuffle(csp_domains)\n",
    "    csp_domains = dict(csp_domains)\n",
    "    for o in csp_domains.values(): random.shuffle(o)\n",
    "    csp_neighbors = list(csp_neighbors.items())\n",
    "    random.shuffle(csp_neighbors)\n",
    "    csp_neighbors = dict(csp_neighbors)\n",
    "    for o in csp_neighbors.values(): random.shuffle(o)\n",
    "        \n",
    "    def csp_constraints(A, a, B, b):\n",
    "        return a != b\n",
    "\n",
    "    #########################################\n",
    "    \n",
    "    # define the CSP instance\n",
    "    csp = CSP(csp_vars, csp_domains, csp_neighbors,\n",
    "              csp_constraints)\n",
    "\n",
    "    # run the specified algorithm to get an answer (or None)\n",
    "    ans = algorithm(csp, **args)\n",
    "    \n",
    "#     print('number of assignments', csp.nassigns)\n",
    "    assign = csp.infer_assignment()\n",
    "#     if assign: for x in sorted(assign.items()): print(x)\n",
    "    return csp\n",
    "\n",
    "n = 10000\n",
    "print('='*80)\n",
    "print(\"Constraint on Roles, columns and the diagonal (with \\ direction)\")\n",
    "print('='*80)\n",
    "print(\"\\033[1mmethod \\t \\t select unassigned variable \\t select domain values \\t\\t inference \\t\\t average assignments\\033[0m\")\n",
    "ns = []\n",
    "for _ in range(n): ns.append(solve_semi_magic(backtracking_search, select_unassigned_variable = first_unassigned_variable, \n",
    "                       order_domain_values = unordered_domain_values, inference = no_inference).nassigns)\n",
    "print(f\"backTracking, \\t first unassigned variable, \\t unordered, \\t\\t\\t no inference ,\\t\\t  {np.mean(ns)}\")\n",
    "ns = []\n",
    "for _ in range(n): ns.append(solve_semi_magic(backtracking_search, select_unassigned_variable = mrv, \n",
    "                 order_domain_values = unordered_domain_values, inference = no_inference).nassigns)\n",
    "print(f\"backTracking, \\t minimum remaining values, \\t unordered, \\t\\t\\t no inference ,\\t\\t  {np.mean(ns)}\")\n",
    "ns = []\n",
    "for _ in range(n): ns.append(solve_semi_magic(backtracking_search, select_unassigned_variable = first_unassigned_variable, \n",
    "                 order_domain_values = lcv, inference = no_inference).nassigns)\n",
    "print(f\"backTracking, \\t first unassigned variable, \\t least constraining value, \\t no inference , \\t  {np.mean(ns)}\")\n",
    "ns = []\n",
    "for _ in range(n): ns.append(solve_semi_magic(backtracking_search, select_unassigned_variable = first_unassigned_variable, \n",
    "                 order_domain_values = unordered_domain_values, inference = forward_checking).nassigns)\n",
    "print(f\"backTracking, \\t first unassigned variable, \\t unordered, \\t\\t\\t forward checking ,\\t  {np.mean(ns)}\")\n",
    "ns = []\n",
    "for _ in range(n): ns.append(solve_semi_magic(backtracking_search, select_unassigned_variable = first_unassigned_variable, \n",
    "                 order_domain_values = unordered_domain_values, inference = mac).nassigns)\n",
    "print(f\"backTracking, \\t first unassigned variable, \\t unordered, \\t\\t\\t AC-3 ,\\t\\t\\t  {np.mean(ns)}\")\n",
    "ns = []\n",
    "for _ in range(n): ns.append(solve_semi_magic(backtracking_search, select_unassigned_variable = mrv, \n",
    "                 order_domain_values = lcv, inference = mac).nassigns)\n",
    "print(f\"backTracking, \\t minimum remaining values, \\t least constraining value, \\t AC-3 ,\\t\\t\\t  \\033[1m{np.mean(ns)}\\033[0m\")"
   ]
  },
  {
   "cell_type": "markdown",
   "metadata": {
    "Collapsed": "false"
   },
   "source": [
    "### Experiment setup\n",
    "The number of assignments depends largely on the randomness that python is using. So I took the average of 10000 iterations of the problem and do ablation study on effectiveness of each methods.\n",
    "### Findings\n",
    "- Pure backtracking algorithm give the highest average number of assignments and the worst result. \n",
    "- Minimum remaining values as variable assigning order can slightly improve the result but give negligible difference\n",
    "- Least Constraining values as values assigning order can also slightly improve the result and is more effective than Minimum remaining values on this task.\n",
    "- forward checking to detect failure early can greatly improve the result.\n",
    "- Arc consistency checking have the most positive effect on average assignments and is more effective than forward checking in reducing the number of assignments.\n",
    "- Finally I combined all the methods together, and it gave the best result possible: average of 9 assignments.\n",
    "\n",
    "### My understanding\n",
    "For semi magic square problem, \n",
    "- minimum remaining values and Least Constraining values showed some effectiveness but did not helped a lot because we have roughly same amount of constraints on each variable, and each value will have roughly the same number of constraints on other variables. Therefore the order in which variables and values are assigned only have a little effect on the result. \n",
    "- However, forward checking algorithm can terminate early when any variable has no legal values and don't have to wait  for the value to be assigned. therefore it can improve the result greatly. \n",
    "- AC-3 algorithm is better than forward checking algorithm because it not only check the immediate node under constraint but also check all the neighbors the information proprogates. therefore can early spot the failures.\n",
    "- combination of all these methods can have all adavantages and therefore have the best result."
   ]
  },
  {
   "cell_type": "code",
   "execution_count": null,
   "metadata": {
    "Collapsed": "false"
   },
   "outputs": [],
   "source": []
  }
 ],
 "metadata": {
  "kernelspec": {
   "display_name": "Python 3",
   "language": "python",
   "name": "python3"
  },
  "language_info": {
   "codemirror_mode": {
    "name": "ipython",
    "version": 3
   },
   "file_extension": ".py",
   "mimetype": "text/x-python",
   "name": "python",
   "nbconvert_exporter": "python",
   "pygments_lexer": "ipython3",
   "version": "3.8.2"
  }
 },
 "nbformat": 4,
 "nbformat_minor": 4
}